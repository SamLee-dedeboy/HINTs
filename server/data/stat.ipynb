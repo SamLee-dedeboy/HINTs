{
 "cells": [
  {
   "cell_type": "code",
   "execution_count": 1,
   "metadata": {},
   "outputs": [],
   "source": [
    "import tiktoken\n",
    "import json"
   ]
  },
  {
   "cell_type": "code",
   "execution_count": 3,
   "metadata": {},
   "outputs": [
    {
     "name": "stdout",
     "output_type": "stream",
     "text": [
      "Average full text word count: 593.27106518283\n",
      "Average summary word count: 70.57710651828299\n",
      "Average full text token count: 747.8848701642819\n",
      "Average summary token count: 84.16004239533652\n"
     ]
    }
   ],
   "source": [
    "def count_words(text):\n",
    "    return len(text.split())\n",
    "def count_tokens(enc, text):\n",
    "    return len(enc.encode(text))\n",
    "dataset = \"AllTheNews\"\n",
    "# dataset = \"VisPub\"\n",
    "enc = tiktoken.encoding_for_model(\"gpt-3.5-turbo\")\n",
    "articles = json.load(open(f\"{dataset}/article_embeddings.json\"))\n",
    "full_texts = [a[\"content\"] for a in articles]\n",
    "summaries = [a[\"summary\"] for a in articles]\n",
    "\n",
    "full_text_word_counts = [count_words(text) for text in full_texts]\n",
    "summaries_word_counts = [count_words(text) for text in summaries]\n",
    "avg_full_text_word_count = sum(full_text_word_counts) / len(full_text_word_counts)\n",
    "avg_summary_word_count = sum(summaries_word_counts) / len(summaries_word_counts)\n",
    "print(f\"Average full text word count: {avg_full_text_word_count}\")\n",
    "print(f\"Average summary word count: {avg_summary_word_count}\")\n",
    "\n",
    "full_text_token_counts = [count_tokens(enc, text) for text in full_texts]\n",
    "summaries_token_counts = [count_tokens(enc, text) for text in summaries]\n",
    "avg_full_text_token_count = sum(full_text_token_counts) / len(full_text_token_counts)\n",
    "avg_summary_token_count = sum(summaries_token_counts) / len(summaries_token_counts)\n",
    "print(f\"Average full text token count: {avg_full_text_token_count}\")\n",
    "print(f\"Average summary token count: {avg_summary_token_count}\")"
   ]
  }
 ],
 "metadata": {
  "kernelspec": {
   "display_name": "hints",
   "language": "python",
   "name": "python3"
  },
  "language_info": {
   "codemirror_mode": {
    "name": "ipython",
    "version": 3
   },
   "file_extension": ".py",
   "mimetype": "text/x-python",
   "name": "python",
   "nbconvert_exporter": "python",
   "pygments_lexer": "ipython3",
   "version": "3.12.3"
  }
 },
 "nbformat": 4,
 "nbformat_minor": 2
}
