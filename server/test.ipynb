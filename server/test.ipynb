{
 "cells": [
  {
   "cell_type": "code",
   "execution_count": 21,
   "metadata": {},
   "outputs": [],
   "source": [
    "import json\n",
    "import copy"
   ]
  },
  {
   "cell_type": "code",
   "execution_count": 24,
   "metadata": {},
   "outputs": [],
   "source": [
    "data_path = \"../preprocess/data/result/\"\n",
    "hierarchy = json.load(open(data_path + 'AllTheNews/network/server/ravasz_hierarchies.json'))\n",
    "level = 5"
   ]
  },
  {
   "cell_type": "code",
   "execution_count": 25,
   "metadata": {},
   "outputs": [
    {
     "data": {
      "text/plain": [
       "{'1': ['L-4-1'],\n",
       " '0': ['L-4-0'],\n",
       " '5': ['L-4-7', 'L-4-12', 'L-4-5', 'L-4-11', 'L-4-6', 'L-4-9', 'L-4-14'],\n",
       " '3': ['L-4-10', 'L-4-4', 'L-4-2', 'L-4-16', 'L-4-13'],\n",
       " '4': ['L-4-8', 'L-4-17', 'L-4-15', 'L-4-18'],\n",
       " '2': ['L-4-3']}"
      ]
     },
     "execution_count": 25,
     "metadata": {},
     "output_type": "execute_result"
    }
   ],
   "source": [
    "def getSubClusterNumDict(hierarchy, level):\n",
    "        queue = copy.deepcopy(hierarchy['children'])\n",
    "        sub_cluster_num_dict = {}\n",
    "        while(len(queue) > 0):\n",
    "            cur = queue[0]\n",
    "            cur_level = int(cur['title'].split(\"-\")[1])\n",
    "            if cur_level == level:\n",
    "                sub_cluster = cur['children']\n",
    "                sub_cluster_ids = list(map(lambda cluster: cluster['title'], sub_cluster))\n",
    "                sub_cluster_num_dict[cur['title'].split(\"-\")[2]] = sub_cluster_ids\n",
    "            elif cur_level > level:\n",
    "                queue += cur['children']\n",
    "            queue = queue[1:]\n",
    "        return sub_cluster_num_dict\n",
    "\n",
    "getSubClusterNumDict(hierarchy, level)"
   ]
  },
  {
   "cell_type": "code",
   "execution_count": 26,
   "metadata": {},
   "outputs": [
    {
     "name": "stdout",
     "output_type": "stream",
     "text": [
      "['L-6-0', 'L-6-1']\n"
     ]
    }
   ],
   "source": [
    "children = hierarchy['children']\n",
    "ids = list(map(lambda child: child['title'], children))\n",
    "print(ids)"
   ]
  }
 ],
 "metadata": {
  "kernelspec": {
   "display_name": "event_hgraph_server",
   "language": "python",
   "name": "python3"
  },
  "language_info": {
   "codemirror_mode": {
    "name": "ipython",
    "version": 3
   },
   "file_extension": ".py",
   "mimetype": "text/x-python",
   "name": "python",
   "nbconvert_exporter": "python",
   "pygments_lexer": "ipython3",
   "version": "3.11.3"
  },
  "orig_nbformat": 4
 },
 "nbformat": 4,
 "nbformat_minor": 2
}
