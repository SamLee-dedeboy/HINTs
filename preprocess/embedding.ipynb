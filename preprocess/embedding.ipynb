{
 "cells": [
  {
   "cell_type": "code",
   "execution_count": 2,
   "metadata": {},
   "outputs": [],
   "source": [
    "import openai\n",
    "import json\n",
    "import numpy as np\n",
    "from numpy.linalg import norm\n",
    "\n",
    "api_key = open(\"api_key\").read()\n",
    "openai.api_key = api_key"
   ]
  },
  {
   "cell_type": "code",
   "execution_count": 2,
   "metadata": {},
   "outputs": [],
   "source": [
    "def get_embedding(text, model=\"text-embedding-ada-002\"):\n",
    "   text = text.replace(\"\\n\", \" \")\n",
    "   return openai.Embedding.create(input = [text], model=model)['data'][0]['embedding']\n",
    "\n",
    "def cos_sim(a, b):\n",
    "   return np.dot(a, b)/(norm(a)*norm(b))\n",
    "\n",
    "def save_json(data, filepath=r'new_data.json'):\n",
    "   with open(filepath, 'w') as fp:\n",
    "      json.dump(data, fp, indent=4)"
   ]
  },
  {
   "cell_type": "code",
   "execution_count": null,
   "metadata": {},
   "outputs": [],
   "source": [
    "def merge_paragraphs(sentences):\n",
    "    sentence_list = [\" \".join(sentence_word_list) for sentence_word_list in sentences] # merge the words into sentences\n",
    "    paragraph = \" \".join(sentence_list)\n",
    "    return paragraph"
   ]
  },
  {
   "cell_type": "code",
   "execution_count": 3,
   "metadata": {},
   "outputs": [],
   "source": [
    "# All_articles = json.load(open(\"data/raw/AllTheNews/events/2016_10p.json\"))\n",
    "All_articles = json.load(open(\"data/result/AllTheNews/network/articles.json\"))\n",
    "existing_embeddings = json.load(open(\"data/raw/AllTheNews/embeddings/2016_10p.json\"))"
   ]
  },
  {
   "cell_type": "code",
   "execution_count": 4,
   "metadata": {},
   "outputs": [
    {
     "name": "stdout",
     "output_type": "stream",
     "text": [
      "7637 7604 1\n"
     ]
    }
   ],
   "source": [
    "all_article_ids = list(All_articles.keys())\n",
    "existing_article_ids = [article['id'] for article in existing_embeddings]\n",
    "target_article_ids = list(set(all_article_ids) - set(existing_article_ids))\n",
    "print(len(existing_embeddings), len(all_article_ids), len(target_article_ids))"
   ]
  },
  {
   "cell_type": "code",
   "execution_count": 5,
   "metadata": {},
   "outputs": [
    {
     "name": "stdout",
     "output_type": "stream",
     "text": [
      "add:  7638\n",
      "7638\n"
     ]
    }
   ],
   "source": [
    "# All The News\n",
    "for article_id in target_article_ids:\n",
    "    article = All_articles[article_id]\n",
    "    article['embedding'] = get_embedding(article['summary'])\n",
    "    existing_embeddings.append({\n",
    "        \"id\": article_id,\n",
    "        \"summary\": article['summary'],\n",
    "        \"content\": article['content'],\n",
    "        \"embedding\": article['embedding'],\n",
    "    })\n",
    "    print(\"add: \", len(existing_embeddings))\n",
    "print(len(existing_embeddings))\n",
    "# save_json(existing_embeddings, \"data/raw/AllTheNews/embeddings/2016_10p.json\")"
   ]
  },
  {
   "cell_type": "code",
   "execution_count": 12,
   "metadata": {},
   "outputs": [],
   "source": [
    "save_json(existing_embeddings, \"data/raw/AllTheNews/embeddings/2016_10p.json\")"
   ]
  },
  {
   "cell_type": "code",
   "execution_count": 4,
   "metadata": {},
   "outputs": [
    {
     "name": "stdout",
     "output_type": "stream",
     "text": [
      "7548 7548\n"
     ]
    }
   ],
   "source": [
    "All_articles = json.load(open(\"data/raw/AllTheNews/events/2016_10p.json\"))\n",
    "All_article_embeddings = json.load(open(\"data/raw/AllTheNews/embeddings/2016_10p.json\"))\n",
    "print(len(All_article_embeddings), len(All_articles))"
   ]
  },
  {
   "cell_type": "code",
   "execution_count": null,
   "metadata": {},
   "outputs": [],
   "source": [
    "# RAMS\n",
    "# embeddings_dict = {candidate: get_embedding(candidate_paragraphs[candidate]) for candidate in candidates}\n",
    "for event_id, event in event_dict.items():\n",
    "    print(event_id, len(event_dict))\n",
    "    event['embedding'] = get_embedding(merge_paragraphs(event['content']))\n",
    "save_json(event_dict, \"data/result/RAMS/gpt_biHgraph_dev/hyperedges_w_embeddings.json\")"
   ]
  },
  {
   "cell_type": "code",
   "execution_count": null,
   "metadata": {},
   "outputs": [],
   "source": [
    "def reorder_hyperedge_id(hyperedges_w_embeddings_dict):\n",
    "    ordered_dict = {}\n",
    "    for key, value in hyperedges_w_embeddings_dict.items():\n",
    "        id_split = key.split('-')\n",
    "        doc_id = id_split[0]\n",
    "        triggers = id_split[1:]\n",
    "        triggers.sort()\n",
    "        ordered_dict[doc_id + '-' + '-'.join(triggers)] = value\n",
    "    return ordered_dict\n",
    "hyperedges_w_embeddings_dict = json.load(open(\"data/result/RAMS/gpt_biHgraph_dev/hyperedges_w_embeddings.json\"))\n",
    "ordered_dict = reorder_hyperedge_id(hyperedges_w_embeddings_dict)\n",
    "save_json(ordered_dict, 'data/result/RAMS/gpt_biHgraph_dev/hyperedges_w_embeddings_ordered.json')"
   ]
  },
  {
   "cell_type": "code",
   "execution_count": 3,
   "metadata": {},
   "outputs": [],
   "source": [
    "server_embeddings = json.load(open(\"data/result/AllTheNews/network/server/embeddings.json\"))\n",
    "embeddings_dict = { doc['doc_id']: doc for doc in server_embeddings}\n",
    "frontend_data = json.load(open('data/result/AllTheNews/network/server/frontend_2.json'))\n",
    "article_node_ids = [node['id'] for node in frontend_data['nodes'] if node['type'] == 'article']\n",
    "for article_id in article_node_ids:\n",
    "    if article_id not in embeddings_dict:\n",
    "        print(article_id)\n",
    "        # embeddings_dict[article_id] = {\n",
    "        #     'doc_id': article_id,\n",
    "        #     'embedding': get_embedding(All_articles[article_id]['summary']),\n",
    "        # }\n",
    "\n"
   ]
  }
 ],
 "metadata": {
  "kernelspec": {
   "display_name": "event_hgraph_preprocess",
   "language": "python",
   "name": "python3"
  },
  "language_info": {
   "codemirror_mode": {
    "name": "ipython",
    "version": 3
   },
   "file_extension": ".py",
   "mimetype": "text/x-python",
   "name": "python",
   "nbconvert_exporter": "python",
   "pygments_lexer": "ipython3",
   "version": "3.11.3"
  },
  "orig_nbformat": 4
 },
 "nbformat": 4,
 "nbformat_minor": 2
}
