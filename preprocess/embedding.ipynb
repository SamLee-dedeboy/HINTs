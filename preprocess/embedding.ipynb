{
 "cells": [
  {
   "cell_type": "code",
   "execution_count": 1,
   "metadata": {},
   "outputs": [],
   "source": [
    "import openai\n",
    "import json\n",
    "import numpy as np\n",
    "from numpy.linalg import norm\n",
    "import requests\n",
    "api_key = open(\"api_key\").read()\n",
    "openai.api_key = api_key"
   ]
  },
  {
   "cell_type": "code",
   "execution_count": 4,
   "metadata": {},
   "outputs": [],
   "source": [
    "def get_embedding(text, model=\"text-embedding-ada-002\"):\n",
    "   # text = text.replace(\"\\n\", \" \")\n",
    "   # return openai.Embedding.create(input = [text], model=model)['data'][0]['embedding']\n",
    "   url = 'https://api.openai.com/v1/embeddings'\n",
    "   headers = {\n",
    "      'Content-Type': 'application/json',\n",
    "      'Authorization': \"Bearer {}\".format(api_key)\n",
    "   }\n",
    "   data = {\n",
    "      \"input\": text,\n",
    "      \"model\": model\n",
    "   }\n",
    "   res = requests.post(url, headers=headers, json=data)\n",
    "   res = res.json()\n",
    "   return res['data'][0]['embedding']\n",
    "\n",
    "def cos_sim(a, b):\n",
    "   return np.dot(a, b)/(norm(a)*norm(b))\n",
    "\n",
    "def save_json(data, filepath=r'new_data.json'):\n",
    "   with open(filepath, 'w') as fp:\n",
    "      json.dump(data, fp, indent=4)"
   ]
  },
  {
   "cell_type": "code",
   "execution_count": null,
   "metadata": {},
   "outputs": [],
   "source": [
    "def merge_paragraphs(sentences):\n",
    "    sentence_list = [\" \".join(sentence_word_list) for sentence_word_list in sentences] # merge the words into sentences\n",
    "    paragraph = \" \".join(sentence_list)\n",
    "    return paragraph"
   ]
  },
  {
   "cell_type": "code",
   "execution_count": null,
   "metadata": {},
   "outputs": [],
   "source": [
    "# All_articles = json.load(open(\"data/raw/AllTheNews/events/2016_10p.json\"))\n",
    "All_articles = json.load(open(\"data/result/AllTheNews/network/articles.json\"))\n",
    "existing_embeddings = json.load(open(\"data/raw/AllTheNews/embeddings/2016_10p.json\"))"
   ]
  },
  {
   "cell_type": "code",
   "execution_count": null,
   "metadata": {},
   "outputs": [],
   "source": [
    "all_article_ids = list(All_articles.keys())\n",
    "existing_article_ids = [article['id'] for article in existing_embeddings]\n",
    "target_article_ids = list(set(all_article_ids) - set(existing_article_ids))\n",
    "print(len(existing_embeddings), len(all_article_ids), len(target_article_ids))"
   ]
  },
  {
   "cell_type": "code",
   "execution_count": null,
   "metadata": {},
   "outputs": [],
   "source": [
    "# All The News\n",
    "for article_id in target_article_ids:\n",
    "    article = All_articles[article_id]\n",
    "    article['embedding'] = get_embedding(article['summary'])\n",
    "    existing_embeddings.append({\n",
    "        \"id\": article_id,\n",
    "        \"summary\": article['summary'],\n",
    "        \"content\": article['content'],\n",
    "        \"embedding\": article['embedding'],\n",
    "    })\n",
    "    print(\"add: \", len(existing_embeddings))\n",
    "print(len(existing_embeddings))\n",
    "# save_json(existing_embeddings, \"data/raw/AllTheNews/embeddings/2016_10p.json\")"
   ]
  },
  {
   "cell_type": "code",
   "execution_count": null,
   "metadata": {},
   "outputs": [],
   "source": [
    "save_json(existing_embeddings, \"data/raw/AllTheNews/embeddings/2016_10p.json\")"
   ]
  },
  {
   "cell_type": "code",
   "execution_count": null,
   "metadata": {},
   "outputs": [],
   "source": [
    "All_articles = json.load(open(\"data/raw/AllTheNews/events/2016_10p.json\"))\n",
    "All_article_embeddings = json.load(open(\"data/raw/AllTheNews/embeddings/2016_10p.json\"))\n",
    "print(len(All_article_embeddings), len(All_articles))"
   ]
  },
  {
   "cell_type": "code",
   "execution_count": null,
   "metadata": {},
   "outputs": [],
   "source": [
    "server_embeddings = json.load(open(\"data/result/AllTheNews/network/server/embeddings.json\"))\n",
    "embeddings_dict = { doc['doc_id']: doc for doc in server_embeddings}\n",
    "frontend_data = json.load(open('data/result/AllTheNews/network/server/frontend_2.json'))\n",
    "article_node_ids = [node['id'] for node in frontend_data['nodes'] if node['type'] == 'article']\n",
    "for article_id in article_node_ids:\n",
    "    if article_id not in embeddings_dict:\n",
    "        print(article_id)\n",
    "        # embeddings_dict[article_id] = {\n",
    "        #     'doc_id': article_id,\n",
    "        #     'embedding': get_embedding(All_articles[article_id]['summary']),\n",
    "        # }"
   ]
  },
  {
   "cell_type": "code",
   "execution_count": null,
   "metadata": {},
   "outputs": [],
   "source": [
    "entity_dict = json.load(open('data/result/AllTheNews/network/entities_w_description.json'))\n",
    "res = {}\n",
    "count = 0\n",
    "for entity_id, entity_data in entity_dict.items():\n",
    "    count += 1\n",
    "    print(\"{}/{}\".format(count, len(entity_dict)))\n",
    "    try:\n",
    "        if entity_data['title'] == entity_data['description']:\n",
    "            content = entity_data['title']\n",
    "        else:\n",
    "            content = entity_data['title'] + \", \" + entity_data['description']\n",
    "        embedding = get_embedding(content)\n",
    "        res[entity_id] = {\n",
    "            'id': entity_id,\n",
    "            'content': content,\n",
    "            'description': entity_data['description'],\n",
    "            'embedding': embedding,\n",
    "        }\n",
    "    except:\n",
    "        continue\n",
    "save_json(res, 'data/result/AllTheNews/network/entities_w_description_embedding.json')"
   ]
  },
  {
   "cell_type": "code",
   "execution_count": 6,
   "metadata": {},
   "outputs": [],
   "source": [
    "entities_embeddings = json.load(open('data/result/AllTheNews/network/entities_w_description_embedding.json'))\n",
    "entities = json.load(open('data/result/AllTheNews/network/entities_w_description.json'))\n",
    "for entity_id, entity_data in entities.items():\n",
    "    if entity_id not in entities_embeddings:\n",
    "        if entity_data['title'] == entity_data['description']:\n",
    "            content = entity_data['title']\n",
    "        else:\n",
    "            content = entity_data['title'] + \", \" + entity_data['description']\n",
    "        embedding = get_embedding(content)\n",
    "        entities_embeddings[entity_id] = {\n",
    "            'id': entity_id,\n",
    "            'content': content,\n",
    "            'description': entity_data['description'],\n",
    "            'embedding': embedding,\n",
    "        }\n",
    "save_json(entities_embeddings, 'data/result/AllTheNews/network/entities_w_description_embedding.json')\n"
   ]
  },
  {
   "cell_type": "code",
   "execution_count": 5,
   "metadata": {},
   "outputs": [],
   "source": [
    "server_embeddings = json.load(open(\"data/result/AllTheNews/network/server/embeddings.json\"))\n",
    "articles = json.load(open(\"data/result/AllTheNews/preprocessed/2016_10p.json\"))\n",
    "article_dict = { article['id']: article for article in articles}\n",
    "for article in server_embeddings:\n",
    "    article_id = article['doc_id']\n",
    "    article_title = article_dict[article_id]['title']\n",
    "    article['title'] = article_title\n",
    "save_json(server_embeddings, \"data/result/AllTheNews/network/server/embeddings_w_title.json\")\n"
   ]
  }
 ],
 "metadata": {
  "kernelspec": {
   "display_name": "event_hgraph_preprocess",
   "language": "python",
   "name": "python3"
  },
  "language_info": {
   "codemirror_mode": {
    "name": "ipython",
    "version": 3
   },
   "file_extension": ".py",
   "mimetype": "text/x-python",
   "name": "python",
   "nbconvert_exporter": "python",
   "pygments_lexer": "ipython3",
   "version": "3.11.3"
  },
  "orig_nbformat": 4
 },
 "nbformat": 4,
 "nbformat_minor": 2
}
