{
 "cells": [
  {
   "cell_type": "code",
   "execution_count": 2,
   "metadata": {},
   "outputs": [],
   "source": [
    "import openai\n",
    "import json\n",
    "import numpy as np\n",
    "from numpy.linalg import norm\n",
    "\n",
    "api_key = open(\"api_key\").read()\n",
    "openai.api_key = api_key"
   ]
  },
  {
   "cell_type": "code",
   "execution_count": 3,
   "metadata": {},
   "outputs": [],
   "source": [
    "def get_embedding(text, model=\"text-embedding-ada-002\"):\n",
    "   text = text.replace(\"\\n\", \" \")\n",
    "   return openai.Embedding.create(input = [text], model=model)['data'][0]['embedding']\n",
    "\n",
    "def cos_sim(a, b):\n",
    "   return np.dot(a, b)/(norm(a)*norm(b))\n",
    "\n",
    "def save_json(data, filepath=r'new_data.json'):\n",
    "   with open(filepath, 'w') as fp:\n",
    "      json.dump(data, fp, indent=4)"
   ]
  },
  {
   "cell_type": "code",
   "execution_count": null,
   "metadata": {},
   "outputs": [],
   "source": [
    "def merge_paragraphs(sentences):\n",
    "    sentence_list = [\" \".join(sentence_word_list) for sentence_word_list in sentences] # merge the words into sentences\n",
    "    paragraph = \" \".join(sentence_list)\n",
    "    return paragraph"
   ]
  },
  {
   "cell_type": "code",
   "execution_count": null,
   "metadata": {},
   "outputs": [],
   "source": [
    "event_dict = json.load(open(\"data/result/RAMS/gpt_biHgraph_dev/hyperedges.json\"))\n",
    "\n",
    "candidates = [\n",
    "    '0-Compare-Require-Inable-Problem',\n",
    "    '1-Occurred',\n",
    "    '2-Involve-Investigate-Lose',\n",
    "    '3-Bombing-Surrender-Celebrate',\n",
    "    '4-Appointment-Question-Lack-Link',\n",
    "    '5-Mention-Criticize',\n",
    "    '6-Describe-Imprison-Convict-Punish',\n",
    "]\n",
    "# candidates = ['skirmish-Fans-Fans-French port city of Marseille-bottles , chairs and other objects', 'surrendered-Q17', 'bought-appointment-commodities trader', 'agreement-Obama administration-Q212', 'walked-Q868772-we', 'guilty-Q3702004-pay - for - play campaign finance scheme', 'convicted-6,267 inmates-Q1886845-drug - related crimes']\n",
    "event_data_list = [event_dict[candidate] for candidate in candidates]"
   ]
  },
  {
   "cell_type": "code",
   "execution_count": null,
   "metadata": {},
   "outputs": [],
   "source": [
    "candidate_paragraphs = { candidate: merge_paragraphs(event_dict[candidate]['content']) for candidate in candidates }"
   ]
  },
  {
   "cell_type": "code",
   "execution_count": 6,
   "metadata": {},
   "outputs": [],
   "source": [
    "All_articles = json.load(open(\"data/raw/AllTheNews/events/2016_10p.json\"))"
   ]
  },
  {
   "cell_type": "code",
   "execution_count": 7,
   "metadata": {},
   "outputs": [],
   "source": [
    "# All The News\n",
    "for article in All_articles:\n",
    "    try:\n",
    "        article['embedding'] = get_embedding(article['summary'])\n",
    "    except:\n",
    "        continue\n",
    "save_json(All_articles, \"data/raw/AllTheNews/embeddings/2016_10p.json\")"
   ]
  },
  {
   "cell_type": "code",
   "execution_count": 4,
   "metadata": {},
   "outputs": [
    {
     "name": "stdout",
     "output_type": "stream",
     "text": [
      "7548 7548\n"
     ]
    }
   ],
   "source": [
    "All_articles = json.load(open(\"data/raw/AllTheNews/events/2016_10p.json\"))\n",
    "All_article_embeddings = json.load(open(\"data/raw/AllTheNews/embeddings/2016_10p.json\"))\n",
    "print(len(All_article_embeddings), len(All_articles))"
   ]
  },
  {
   "cell_type": "code",
   "execution_count": null,
   "metadata": {},
   "outputs": [],
   "source": [
    "# RAMS\n",
    "# embeddings_dict = {candidate: get_embedding(candidate_paragraphs[candidate]) for candidate in candidates}\n",
    "for event_id, event in event_dict.items():\n",
    "    print(event_id, len(event_dict))\n",
    "    event['embedding'] = get_embedding(merge_paragraphs(event['content']))\n",
    "save_json(event_dict, \"data/result/RAMS/gpt_biHgraph_dev/hyperedges_w_embeddings.json\")"
   ]
  },
  {
   "cell_type": "code",
   "execution_count": null,
   "metadata": {},
   "outputs": [],
   "source": [
    "def reorder_hyperedge_id(hyperedges_w_embeddings_dict):\n",
    "    ordered_dict = {}\n",
    "    for key, value in hyperedges_w_embeddings_dict.items():\n",
    "        id_split = key.split('-')\n",
    "        doc_id = id_split[0]\n",
    "        triggers = id_split[1:]\n",
    "        triggers.sort()\n",
    "        ordered_dict[doc_id + '-' + '-'.join(triggers)] = value\n",
    "    return ordered_dict\n",
    "hyperedges_w_embeddings_dict = json.load(open(\"data/result/RAMS/gpt_biHgraph_dev/hyperedges_w_embeddings.json\"))\n",
    "ordered_dict = reorder_hyperedge_id(hyperedges_w_embeddings_dict)\n",
    "save_json(ordered_dict, 'data/result/RAMS/gpt_biHgraph_dev/hyperedges_w_embeddings_ordered.json')"
   ]
  }
 ],
 "metadata": {
  "kernelspec": {
   "display_name": "event_hgraph_preprocess",
   "language": "python",
   "name": "python3"
  },
  "language_info": {
   "codemirror_mode": {
    "name": "ipython",
    "version": 3
   },
   "file_extension": ".py",
   "mimetype": "text/x-python",
   "name": "python",
   "nbconvert_exporter": "python",
   "pygments_lexer": "ipython3",
   "version": "3.11.3"
  },
  "orig_nbformat": 4
 },
 "nbformat": 4,
 "nbformat_minor": 2
}
