{
 "cells": [
  {
   "cell_type": "code",
   "execution_count": 19,
   "metadata": {},
   "outputs": [],
   "source": [
    "import openai\n",
    "import json\n",
    "import numpy as np\n",
    "from numpy.linalg import norm\n",
    "\n",
    "api_key = open(\"api_key\").read()\n",
    "openai.api_key = api_key"
   ]
  },
  {
   "cell_type": "code",
   "execution_count": 20,
   "metadata": {},
   "outputs": [],
   "source": [
    "def get_embedding(text, model=\"text-embedding-ada-002\"):\n",
    "   text = text.replace(\"\\n\", \" \")\n",
    "   return openai.Embedding.create(input = [text], model=model)['data'][0]['embedding']\n",
    "\n",
    "def cos_sim(a, b):\n",
    "   return np.dot(a, b)/(norm(a)*norm(b))"
   ]
  },
  {
   "cell_type": "code",
   "execution_count": 32,
   "metadata": {},
   "outputs": [],
   "source": [
    "def merge_paragraphs(mentions):\n",
    "    paragraphs = \"\"\n",
    "    for mention in mentions:\n",
    "        sentence_list = [\" \".join(sentence_word_list) for sentence_word_list in mention['paragraph']] # merge the words into sentences\n",
    "        paragraph = \" \".join(sentence_list)\n",
    "        paragraphs += paragraph + \"\\n\"\n",
    "    return paragraph"
   ]
  },
  {
   "cell_type": "code",
   "execution_count": 30,
   "metadata": {},
   "outputs": [],
   "source": [
    "event_dict = json.load(open(\"data/result/RAMS/biHgraph_dev/hyperedges.json\"))\n",
    "\n",
    "candidates = ['skirmish-Fans-Fans-French port city of Marseille-bottles , chairs and other objects', 'surrendered-Q17', 'bought-appointment-commodities trader', 'agreement-Obama administration-Q212', 'walked-Q868772-we', 'guilty-Q3702004-pay - for - play campaign finance scheme', 'convicted-6,267 inmates-Q1886845-drug - related crimes']\n",
    "event_data_list = [event_dict[candidate] for candidate in candidates]"
   ]
  },
  {
   "cell_type": "code",
   "execution_count": 34,
   "metadata": {},
   "outputs": [
    {
     "data": {
      "text/plain": [
       "{'exterminated-Q796-opponents': \"Three specific points illustrate why Americans see Trump as the problem : 1 ) Trump has trouble working with people beyond his base . In Saddam Hussein 's Iraq that might work when opponents can be thrown in jail or exterminated . In the United States that wo n't fly : presidents must build bridges within and beyond their core support to resolve challenges . Without alliances , a president ca n't get approval to get things done .\",\n",
       " 'surrendered-Q17': \"Japan had surrendered . Hide Caption 36 of 38 Photos : World War II in pictures A jubilant American sailor kisses a nurse in New York 's Times Square on August 14 , 1945 , as he celebrates the news that Japan has surrendered . ( Because of the time difference between the two nations , the surrender occurred August 15 in Japan ) . Hide Caption 37 of 38\",\n",
       " 'bought-appointment-commodities trader': 'His campaign has just announced it will soon launch a new website , LyingCrookedHillary.com . Here ’s are just a few of the most egregious examples of Mrs. Clinton ’s corruption scandals : The commodities trader who “ bought ” his appointment to a Top Secret nuclear weapons security advisory board . Mr. Trump began speaking about commodities trader Raj Fernando on Friday , just hours after ABC News chief investigative correspondent Brian Ross broke the story that tied Mr. Fernando ’s appointment to the prestigious International Security Advisory Board in 2009 to his donations to the Clinton Foundation . Newly released emails , acquired by Citizens United through the Freedom of Information Act , show that career Department officials questioned Fernando ’s appointment because he had no national security experience .',\n",
       " 'agreement-Obama administration-Q212': 'Ted Cruz Ted Cruz took swipes at Trump and Obama over their foreign policy . He blasted the Obama administration for not living up to an agreement with Ukraine to secure its territorial integrity made at the end of the Cold War when Kiev gave up its Soviet - era nuclear weapons . Cruz also slammed Obama \\'s trip to Cuba , saying the President was in the company of celebrities who have glamorized the Castro brothers . \" As Barack Obama is sitting there sipping mojitos with brutal Communist dictators , he ca n\\'t be bothered to meet the dissidents , he ca n\\'t be bothered to visit with the Ladies in White , he ca n\\'t be bothered to hear the screams of oppression , \" Cruz said .',\n",
       " 'walked-Q868772-we': 'I remember our family trip to the White House in middle school -- even though you disagreed with the man who was President , you spoke of the office with such reverence and dignity that we felt honored just to visit . I left that day with exactly the sense of admiration and respect for the office that I think you hoped we \\'d feel . I remember another trip to New York where we walked by the Trump Tower . What \\'s that , I asked ? You just shook your head and said , \" Tacky . \"',\n",
       " 'guilty-Q3702004-pay - for - play campaign finance scheme': 'The DNC responded by assembling files to gauge the exposure from Hsu to its slate of candidates . Similar files on Paul J. Magliocchetti , a lobbyist closely associated with the late Rep. John Murtha ( D - Pa . ) , provide a quick reference document outlining Magliocchetti ’s donations to Republicans . Magliocchetti pleaded guilty in 2010 to involvement in a pay - for - play campaign finance scheme . Guccifer 2.0 has claimed to be a Romanian hacker with no strong political leanings . Guccifer 2.0 ’s choice to release documents from Magliocchetti and Hsu , whose cases are now six and seven years old , shows a detailed knowledge of American politics seemingly at odds with the backstory provided by the hacker .',\n",
       " 'convicted-6,267 inmates-Q1886845-drug - related crimes': 'In common with much of the region , Thailand \\'s criminal justice system treats drug offenders harshly . Producing and trading in Category 1 drugs , which also include heroin , MDMA - the main chemical for ecstasy pills - and LSD , is punishable by death or life imprisonment . Klong Prem is home to 6,267 inmates serving sentences that range from 15 years to life , with 64 percent convicted of drug - related crimes . A typical cell measures 1.5 x 3 meters ( 5 x 10 feet ) and sleeps five inmates , side - by - side on dark blue mattress on the floor . \" Some of the men , especially the foreign prisoners , are pretty big , so it \\'s a squeeze for them , \" said one prison guard .'}"
      ]
     },
     "execution_count": 34,
     "metadata": {},
     "output_type": "execute_result"
    }
   ],
   "source": [
    "candidate_paragraphs = { candidate: merge_paragraphs(event_dict[candidate]['mentions']) for candidate in candidates }"
   ]
  },
  {
   "cell_type": "code",
   "execution_count": 35,
   "metadata": {},
   "outputs": [],
   "source": [
    "embeddings_dict = {candidate: get_embedding(candidate_paragraphs[candidate]) for candidate in candidates}"
   ]
  },
  {
   "cell_type": "code",
   "execution_count": 36,
   "metadata": {},
   "outputs": [],
   "source": [
    "pairs = [(a, b) for idx, a in enumerate(candidates) for b in candidates[idx + 1:]]\n",
    "distances = [cos_sim(embeddings_dict[a], embeddings_dict[b]) for a, b in pairs]"
   ]
  },
  {
   "cell_type": "code",
   "execution_count": 38,
   "metadata": {},
   "outputs": [
    {
     "name": "stdout",
     "output_type": "stream",
     "text": [
      "('exterminated-Q796-opponents', 'surrendered-Q17') 0.7294101154947346\n",
      "('exterminated-Q796-opponents', 'bought-appointment-commodities trader') 0.7906372580590643\n",
      "('exterminated-Q796-opponents', 'agreement-Obama administration-Q212') 0.830473476031006\n",
      "('exterminated-Q796-opponents', 'walked-Q868772-we') 0.7918159349360584\n",
      "('exterminated-Q796-opponents', 'guilty-Q3702004-pay - for - play campaign finance scheme') 0.7564125863099445\n",
      "('exterminated-Q796-opponents', 'convicted-6,267 inmates-Q1886845-drug - related crimes') 0.7447864315088901\n",
      "('surrendered-Q17', 'bought-appointment-commodities trader') 0.706104287140483\n",
      "('surrendered-Q17', 'agreement-Obama administration-Q212') 0.7346263481716026\n",
      "('surrendered-Q17', 'walked-Q868772-we') 0.7406907037607633\n",
      "('surrendered-Q17', 'guilty-Q3702004-pay - for - play campaign finance scheme') 0.6909742167063558\n",
      "('surrendered-Q17', 'convicted-6,267 inmates-Q1886845-drug - related crimes') 0.7120239541863661\n",
      "('bought-appointment-commodities trader', 'agreement-Obama administration-Q212') 0.8273727978811151\n",
      "('bought-appointment-commodities trader', 'walked-Q868772-we') 0.7655349000940519\n",
      "('bought-appointment-commodities trader', 'guilty-Q3702004-pay - for - play campaign finance scheme') 0.8114627322984068\n",
      "('bought-appointment-commodities trader', 'convicted-6,267 inmates-Q1886845-drug - related crimes') 0.7398505774795694\n",
      "('agreement-Obama administration-Q212', 'walked-Q868772-we') 0.8052619166407065\n",
      "('agreement-Obama administration-Q212', 'guilty-Q3702004-pay - for - play campaign finance scheme') 0.7776701439523199\n",
      "('agreement-Obama administration-Q212', 'convicted-6,267 inmates-Q1886845-drug - related crimes') 0.7188022031122372\n",
      "('walked-Q868772-we', 'guilty-Q3702004-pay - for - play campaign finance scheme') 0.7341148291083568\n",
      "('walked-Q868772-we', 'convicted-6,267 inmates-Q1886845-drug - related crimes') 0.7025219466277639\n",
      "('guilty-Q3702004-pay - for - play campaign finance scheme', 'convicted-6,267 inmates-Q1886845-drug - related crimes') 0.7397944677642642\n"
     ]
    }
   ],
   "source": [
    "for idx, pair in enumerate(pairs):\n",
    "    print(pair, distances[idx])"
   ]
  }
 ],
 "metadata": {
  "kernelspec": {
   "display_name": "event_hgraph_preprocess",
   "language": "python",
   "name": "python3"
  },
  "language_info": {
   "codemirror_mode": {
    "name": "ipython",
    "version": 3
   },
   "file_extension": ".py",
   "mimetype": "text/x-python",
   "name": "python",
   "nbconvert_exporter": "python",
   "pygments_lexer": "ipython3",
   "version": "3.11.3"
  },
  "orig_nbformat": 4
 },
 "nbformat": 4,
 "nbformat_minor": 2
}
