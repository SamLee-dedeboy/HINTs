{
 "cells": [
  {
   "cell_type": "code",
   "execution_count": 2,
   "metadata": {},
   "outputs": [],
   "source": [
    "import openai\n",
    "import json\n",
    "import numpy as np\n",
    "from numpy.linalg import norm\n",
    "import requests\n",
    "import csv\n",
    "api_key = open(\"api_key\").read()\n",
    "openai.api_key = api_key"
   ]
  },
  {
   "cell_type": "code",
   "execution_count": 3,
   "metadata": {},
   "outputs": [],
   "source": [
    "def get_embedding(text, model=\"text-embedding-ada-002\"):\n",
    "   # text = text.replace(\"\\n\", \" \")\n",
    "   # return openai.Embedding.create(input = [text], model=model)['data'][0]['embedding']\n",
    "   url = 'https://api.openai.com/v1/embeddings'\n",
    "   headers = {\n",
    "      'Content-Type': 'application/json',\n",
    "      'Authorization': \"Bearer {}\".format(api_key)\n",
    "   }\n",
    "   data = {\n",
    "      \"input\": text,\n",
    "      \"model\": model\n",
    "   }\n",
    "   res = requests.post(url, headers=headers, json=data)\n",
    "   res = res.json()\n",
    "   return res['data'][0]['embedding']\n",
    "\n",
    "def cos_sim(a, b):\n",
    "   return np.dot(a, b)/(norm(a)*norm(b))\n",
    "\n",
    "def save_json(data, filepath=r'new_data.json'):\n",
    "   with open(filepath, 'w') as fp:\n",
    "      json.dump(data, fp, indent=4)"
   ]
  },
  {
   "cell_type": "code",
   "execution_count": null,
   "metadata": {},
   "outputs": [],
   "source": [
    "def merge_paragraphs(sentences):\n",
    "    sentence_list = [\" \".join(sentence_word_list) for sentence_word_list in sentences] # merge the words into sentences\n",
    "    paragraph = \" \".join(sentence_list)\n",
    "    return paragraph"
   ]
  },
  {
   "cell_type": "code",
   "execution_count": null,
   "metadata": {},
   "outputs": [],
   "source": [
    "# All_articles = json.load(open(\"data/raw/AllTheNews/events/2016_10p.json\"))\n",
    "All_articles = json.load(open(\"data/result/AllTheNews/network/articles.json\"))\n",
    "existing_embeddings = json.load(open(\"data/raw/AllTheNews/embeddings/2016_10p.json\"))"
   ]
  },
  {
   "cell_type": "code",
   "execution_count": null,
   "metadata": {},
   "outputs": [],
   "source": [
    "vis_articles = csv.DictReader(open('data/raw/VisPub/IEEE VIS papers 1990-2022 - Main dataset-2.csv'))\n",
    "res = []\n",
    "count = -1\n",
    "for article in vis_articles:\n",
    "    count += 1\n",
    "    article['id'] = 'vis_{}'.format(count)\n",
    "    res.append(article)\n",
    "save_json(res, 'data/raw/VisPub/articles.json')"
   ]
  },
  {
   "cell_type": "code",
   "execution_count": null,
   "metadata": {},
   "outputs": [],
   "source": [
    "# Vis Pub\n",
    "# vis_articles = csv.DictReader(open('data/raw/VisPub/IEEE VIS papers 1990-2022 - Main dataset-2.csv'))\n",
    "vis_articles = json.load(open('data/raw/VisPub/articles_w_keywords.json'))\n",
    "# existing_embeddings = json.load(open(\"data/raw/VisPub/keyword_embeddings/keyword_embeddings.json\"))\n",
    "existing_ids = [embedding['keyword'] for embedding in existing_embeddings]\n",
    "# existing_embeddings = []\n",
    "# existing_ids = []\n",
    "count = -1\n",
    "for article in vis_articles:\n",
    "    count += 1\n",
    "    print(\"{}/{}\".format(count, 3620))\n",
    "    # if 'vis_{}'.format(count) in existing_ids: \n",
    "    #     continue\n",
    "    try:\n",
    "        article['embedding'] = get_embedding(article['Abstract'])\n",
    "        existing_embeddings.append({\n",
    "            'doc_id': 'vis_{}'.format(count),\n",
    "            'title': article['Title'],\n",
    "            'summary': article['Abstract'],\n",
    "            'content': article['Abstract'],\n",
    "            'embedding': article['embedding']\n",
    "        })\n",
    "    except:\n",
    "        print(count, article['Abstract'])\n",
    "        continue\n",
    "save_json(existing_embeddings, 'data/result/VisPub/embeddings.json')\n",
    "print(len(existing_embeddings), count)\n"
   ]
  },
  {
   "cell_type": "code",
   "execution_count": null,
   "metadata": {},
   "outputs": [],
   "source": [
    "embeddings = []\n",
    "count = 0\n",
    "for article in vis_articles:\n",
    "    embeddings.append({\n",
    "        'doc_id': 'vis_{}'.format(count),\n",
    "        'title': article['Title'],\n",
    "        'summary': article['Abstract'],\n",
    "        'content': article['Abstract'],\n",
    "        'embedding': article['embedding']\n",
    "    })\n",
    "    count += 1\n",
    "save_json(embeddings, 'data/result/VisPub/embeddings.json')"
   ]
  },
  {
   "cell_type": "code",
   "execution_count": null,
   "metadata": {},
   "outputs": [],
   "source": [
    "all_article_ids = list(All_articles.keys())\n",
    "existing_article_ids = [article['id'] for article in existing_embeddings]\n",
    "target_article_ids = list(set(all_article_ids) - set(existing_article_ids))\n",
    "print(len(existing_embeddings), len(all_article_ids), len(target_article_ids))"
   ]
  },
  {
   "cell_type": "code",
   "execution_count": null,
   "metadata": {},
   "outputs": [],
   "source": [
    "# All The News\n",
    "for article_id in target_article_ids:\n",
    "    article = All_articles[article_id]\n",
    "    article['embedding'] = get_embedding(article['summary'])\n",
    "    existing_embeddings.append({\n",
    "        \"id\": article_id,\n",
    "        \"summary\": article['summary'],\n",
    "        \"content\": article['content'],\n",
    "        \"embedding\": article['embedding'],\n",
    "    })\n",
    "    print(\"add: \", len(existing_embeddings))\n",
    "print(len(existing_embeddings))\n",
    "# save_json(existing_embeddings, \"data/raw/AllTheNews/embeddings/2016_10p.json\")"
   ]
  },
  {
   "cell_type": "code",
   "execution_count": null,
   "metadata": {},
   "outputs": [],
   "source": [
    "save_json(existing_embeddings, \"data/raw/AllTheNews/embeddings/2016_10p.json\")"
   ]
  },
  {
   "cell_type": "code",
   "execution_count": null,
   "metadata": {},
   "outputs": [],
   "source": [
    "All_articles = json.load(open(\"data/raw/AllTheNews/events/2016_10p.json\"))\n",
    "All_article_embeddings = json.load(open(\"data/raw/AllTheNews/embeddings/2016_10p.json\"))\n",
    "print(len(All_article_embeddings), len(All_articles))"
   ]
  },
  {
   "cell_type": "code",
   "execution_count": null,
   "metadata": {},
   "outputs": [],
   "source": [
    "server_embeddings = json.load(open(\"data/result/AllTheNews/network/server/embeddings.json\"))\n",
    "embeddings_dict = { doc['doc_id']: doc for doc in server_embeddings}\n",
    "frontend_data = json.load(open('data/result/AllTheNews/network/server/frontend_2.json'))\n",
    "article_node_ids = [node['id'] for node in frontend_data['nodes'] if node['type'] == 'article']\n",
    "for article_id in article_node_ids:\n",
    "    if article_id not in embeddings_dict:\n",
    "        print(article_id)\n",
    "        # embeddings_dict[article_id] = {\n",
    "        #     'doc_id': article_id,\n",
    "        #     'embedding': get_embedding(All_articles[article_id]['summary']),\n",
    "        # }"
   ]
  },
  {
   "cell_type": "code",
   "execution_count": null,
   "metadata": {},
   "outputs": [],
   "source": [
    "entity_dict = json.load(open('data/result/AllTheNews/network/entities_w_description.json'))\n",
    "res = {}\n",
    "count = 0\n",
    "for entity_id, entity_data in entity_dict.items():\n",
    "    count += 1\n",
    "    print(\"{}/{}\".format(count, len(entity_dict)))\n",
    "    try:\n",
    "        if entity_data['title'] == entity_data['description']:\n",
    "            content = entity_data['title']\n",
    "        else:\n",
    "            content = entity_data['title'] + \", \" + entity_data['description']\n",
    "        embedding = get_embedding(content)\n",
    "        res[entity_id] = {\n",
    "            'id': entity_id,\n",
    "            'content': content,\n",
    "            'description': entity_data['description'],\n",
    "            'embedding': embedding,\n",
    "        }\n",
    "    except:\n",
    "        continue\n",
    "save_json(res, 'data/result/AllTheNews/network/entities_w_description_embedding.json')"
   ]
  },
  {
   "cell_type": "code",
   "execution_count": null,
   "metadata": {},
   "outputs": [],
   "source": [
    "entities_embeddings = json.load(open('data/result/AllTheNews/network/entities_w_description_embedding.json'))\n",
    "entities = json.load(open('data/result/AllTheNews/network/entities_w_description.json'))\n",
    "for entity_id, entity_data in entities.items():\n",
    "    if entity_id not in entities_embeddings:\n",
    "        if entity_data['title'] == entity_data['description']:\n",
    "            content = entity_data['title']\n",
    "        else:\n",
    "            content = entity_data['title'] + \", \" + entity_data['description']\n",
    "        embedding = get_embedding(content)\n",
    "        entities_embeddings[entity_id] = {\n",
    "            'id': entity_id,\n",
    "            'content': content,\n",
    "            'description': entity_data['description'],\n",
    "            'embedding': embedding,\n",
    "        }\n",
    "save_json(entities_embeddings, 'data/result/AllTheNews/network/entities_w_description_embedding.json')\n"
   ]
  },
  {
   "cell_type": "code",
   "execution_count": null,
   "metadata": {},
   "outputs": [],
   "source": [
    "server_embeddings = json.load(open(\"data/result/AllTheNews/network/server/embeddings.json\"))\n",
    "articles = json.load(open(\"data/result/AllTheNews/preprocessed/2016_10p.json\"))\n",
    "article_dict = { article['id']: article for article in articles}\n",
    "for article in server_embeddings:\n",
    "    article_id = article['doc_id']\n",
    "    article_title = article_dict[article_id]['title']\n",
    "    article['title'] = article_title\n",
    "save_json(server_embeddings, \"data/result/AllTheNews/network/server/embeddings_w_title.json\")\n"
   ]
  },
  {
   "cell_type": "code",
   "execution_count": null,
   "metadata": {},
   "outputs": [],
   "source": [
    "embeddings = json.load(open('data/result/VisPub/embeddings.json'))\n",
    "embeddings_dict = { doc['doc_id']: doc for doc in embeddings}\n",
    "vis_articles = json.load(open('data/result/VisPub/preprocessed/aryaman/processed_data.json'))\n",
    "for article in vis_articles:\n",
    "    if article['id'] not in embeddings_dict:\n",
    "        # print(article['id'])\n",
    "        embeddings = get_embedding(article['Abstract'])\n",
    "        embeddings_dict[article['id']] = {\n",
    "            'doc_id': article['id'],\n",
    "            'title': article['Title'],\n",
    "            'summary': article['Abstract'],\n",
    "            'content': article['Abstract'],\n",
    "            'embedding': embeddings,\n",
    "        }\n",
    "save_json(embeddings_dict, 'data/result/VisPub/embeddings_all.json')\n"
   ]
  },
  {
   "cell_type": "code",
   "execution_count": null,
   "metadata": {},
   "outputs": [],
   "source": [
    "embeddings_dict = json.load(open('data/result/VisPub/embeddings_all.json'))\n",
    "print(len(embeddings_dict), len(vis_articles))"
   ]
  },
  {
   "cell_type": "code",
   "execution_count": null,
   "metadata": {},
   "outputs": [],
   "source": [
    "save_json(list(embeddings_dict.values()), 'data/result/VisPub/embeddings_all.json')"
   ]
  },
  {
   "cell_type": "code",
   "execution_count": 4,
   "metadata": {},
   "outputs": [
    {
     "name": "stdout",
     "output_type": "stream",
     "text": [
      "1/1436\n",
      "2/1436\n",
      "3/1436\n",
      "4/1436\n",
      "5/1436\n",
      "6/1436\n",
      "7/1436\n",
      "8/1436\n",
      "9/1436\n",
      "10/1436\n",
      "11/1436\n",
      "12/1436\n",
      "13/1436\n",
      "14/1436\n",
      "15/1436\n",
      "16/1436\n",
      "17/1436\n",
      "18/1436\n",
      "19/1436\n",
      "20/1436\n",
      "21/1436\n",
      "22/1436\n",
      "23/1436\n",
      "24/1436\n",
      "25/1436\n",
      "26/1436\n",
      "27/1436\n"
     ]
    }
   ],
   "source": [
    "# VisPub entity embeddings\n",
    "# vispub_entity_dict = json.load(open('data/result/VisPub/network/entities.json'))\n",
    "# vispub_entity_dict = json.load(open('data/raw/VisPub/keywords_w_explanation.json'))\n",
    "# entity_embeddings = json.load(open('data/result/VisPub/keyword_embeddings.json'))\n",
    "entity_embeddings = {}\n",
    "vispub_entity_dict = json.load(open('data/result/VisPub/entities_w_explanation.json'))\n",
    "count = 0\n",
    "length = len(vispub_entity_dict)\n",
    "error_ids = []\n",
    "for entity in vispub_entity_dict.values():\n",
    "    count += 1\n",
    "    print(\"{}/{}\".format(count, length))\n",
    "    if entity['id'] in entity_embeddings: continue\n",
    "    # if count == 10: break\n",
    "    try:\n",
    "        # mentions = [mention['mention'] for mention in entity['mentions']]\n",
    "        # mention_embeddings = [get_embedding(mention) for mention in mentions]\n",
    "        # embedding = np.mean(mention_embeddings, axis=0).tolist()\n",
    "        explanation = entity['explanation']\n",
    "        embedding = get_embedding(explanation)\n",
    "        entity_embeddings[entity['id']] = {\n",
    "            \"id\": entity['id'],\n",
    "            \"title\": entity['id'],\n",
    "            \"explanation\": explanation,\n",
    "            \"embedding\": embedding,\n",
    "        }\n",
    "        save_json(entity_embeddings, 'data/result/VisPub/entity_embeddings_w_explanation.json')\n",
    "    except:\n",
    "        error_ids.append(entity['id'])\n",
    "        continue"
   ]
  },
  {
   "cell_type": "code",
   "execution_count": null,
   "metadata": {},
   "outputs": [],
   "source": [
    "save_json(entity_embeddings, 'data/result/VisPub/entities_embeddings.json')"
   ]
  }
 ],
 "metadata": {
  "kernelspec": {
   "display_name": "event_hgraph_preprocess",
   "language": "python",
   "name": "python3"
  },
  "language_info": {
   "codemirror_mode": {
    "name": "ipython",
    "version": 3
   },
   "file_extension": ".py",
   "mimetype": "text/x-python",
   "name": "python",
   "nbconvert_exporter": "python",
   "pygments_lexer": "ipython3",
   "version": "3.11.3"
  },
  "orig_nbformat": 4
 },
 "nbformat": 4,
 "nbformat_minor": 2
}
