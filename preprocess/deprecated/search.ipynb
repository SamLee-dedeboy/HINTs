{
 "cells": [
  {
   "cell_type": "code",
   "execution_count": 1,
   "metadata": {},
   "outputs": [],
   "source": [
    "import openai\n",
    "import json\n",
    "import numpy as np\n",
    "from numpy.linalg import norm\n",
    "from scipy import spatial\n",
    "import requests\n",
    "\n",
    "api_key = open(\"api_key\").read()\n",
    "openai.api_key = api_key"
   ]
  },
  {
   "cell_type": "code",
   "execution_count": 2,
   "metadata": {},
   "outputs": [],
   "source": [
    "def save_json(data, filepath=r'new_data.json'):\n",
    "   with open(filepath, 'w') as fp:\n",
    "      json.dump(data, fp, indent=4)"
   ]
  },
  {
   "cell_type": "code",
   "execution_count": 38,
   "metadata": {},
   "outputs": [],
   "source": [
    "# search function\n",
    "def strings_ranked_by_relatedness(\n",
    "    query: str,\n",
    "    db_embeddings: list,\n",
    "    relatedness_fn=lambda x, y: 1 - spatial.distance.cosine(x, y),\n",
    ") -> tuple[list[str], list[float]]:\n",
    "    \"\"\"Returns a list of strings and relatednesses, sorted from most related to least.\"\"\"\n",
    "    query_embedding_response = openai.Embedding.create(\n",
    "        model=\"text-embedding-ada-002\",\n",
    "        input=query,\n",
    "    )\n",
    "    query_embedding = query_embedding_response[\"data\"][0][\"embedding\"]\n",
    "    strings_and_relatednesses = [\n",
    "        (doc_data[\"summary\"], relatedness_fn(query_embedding, doc_data[\"embedding\"]))\n",
    "        for doc_data in db_embeddings\n",
    "    ]\n",
    "    strings_and_relatednesses.sort(key=lambda x: x[1], reverse=True)\n",
    "    return strings_and_relatednesses"
   ]
  },
  {
   "cell_type": "code",
   "execution_count": 30,
   "metadata": {},
   "outputs": [],
   "source": [
    "article_embeddings = json.load(open('data/raw/AllTheNews/embeddings/2016_10p.json'))\n",
    "res = []\n",
    "for article_data in article_embeddings:\n",
    "    res.append({\n",
    "        \"doc_id\": article_data['id'],\n",
    "        'content': article_data['content'],\n",
    "        \"summary\": article_data['summary'],\n",
    "        \"embedding\": article_data['embedding'],\n",
    "    })\n",
    "save_json(res, 'data/result/AllTheNews/network/server/embeddings.json')"
   ]
  },
  {
   "cell_type": "code",
   "execution_count": 5,
   "metadata": {},
   "outputs": [],
   "source": [
    "def request_chatgpt_gpt4(messages):\n",
    "    url = \"http://127.0.0.1:5000/event_hgraph\"\n",
    "    body = {\"messages\": messages}\n",
    "    response = requests.post(url, json=body).json()\n",
    "    gpt_response = response['choices'][0]['message']['content'].strip()\n",
    "    return gpt_response\n"
   ]
  },
  {
   "cell_type": "code",
   "execution_count": 35,
   "metadata": {},
   "outputs": [],
   "source": [
    "def evaluate_fitness(doc, query):\n",
    "    example_news_1 = \"\"\"\n",
    "    The article discussed the severe flooding in Missouri and Illinois, which has resulted in numerous deaths and extensive damage to homes and communities. Gov. Jay Nixon declared a state of emergency and activated the Missouri National Guard to assist with evacuations and traffic control. The rising flood waters have also prompted the U.S. Army Corps of Engineers to work on strengthening levees to protect local areas.\n",
    "    \"\"\"\n",
    "    example_query_1 = \"Missouri flooding\"\n",
    "    example_answer_1 = \"Relevant\"\n",
    "    example_news_2 = \"\"\"\n",
    "    The article discussed Vladimir Putin's long-standing support for Donald Trump, which was evident through Twitter accounts and Putin's recent comments calling Trump a \\\"brilliant and talented person.\\\" Putin's embrace of Trump is seen as a darker move, similar to his endorsements of other insurgent parties in Europe, as a way to chip away at countries and institutions that he believes have conspired against Russia. Putin supports Trump because of the chaos and destruction that Trump's antics bring to the U.S.\n",
    "    \"\"\"\n",
    "    example_query_2 = \"Hillary Clinton\"\n",
    "    example_answer_2 = \"Irrelevant\"\n",
    "    template = \"\"\"\n",
    "    Article: {news} \\n\\n\\n\n",
    "    Do you think the article is talking about: {topic}? \\n\\n\\n\n",
    "    \"\"\"\n",
    "    messages = [\n",
    "        {\n",
    "            \"role\": \"system\",\n",
    "            \"content\": \"\"\"\n",
    "                You are a news article filtering system.\n",
    "                The user will provide you with an article and a topic, your job is to decide whether the article is talking about the topic.\n",
    "                Reply with 'Relevant' or 'Irrelevant'.\n",
    "            \"\"\",\n",
    "        },\n",
    "        # # example 1\n",
    "        # { \"role\": \"user\", \"content\": template.format(news=example_news_1, topic=example_query_1)},\n",
    "        # { \"role\": \"system\", \"name\": \"example_system\", \"content\": example_answer_1},\n",
    "        # # example 2\n",
    "        # { \"role\": \"user\", \"content\": template.format(news=example_news_2, topic=example_query_2)},\n",
    "        # { \"role\": \"system\", \"name\": \"example_system\", \"content\": example_answer_2},\n",
    "        # user input\n",
    "        { \"role\": \"user\", \"content\": template.format(news=doc, topic=query)}\n",
    "    ]\n",
    "    response = request_chatgpt_gpt4(messages)\n",
    "    if 'Irrelevant' in response:\n",
    "        return 'Irrelevant'\n",
    "    elif 'Relevant' in response:\n",
    "        return 'Relevant'\n",
    "    else:\n",
    "        return 'Irrelevant'\n"
   ]
  },
  {
   "cell_type": "code",
   "execution_count": 40,
   "metadata": {},
   "outputs": [],
   "source": [
    "def binary_search_threshold(docs, query):\n",
    "    # binary search to find the most appropriate threshold\n",
    "    start = 0\n",
    "    end = len(docs)\n",
    "    mid = len(docs) // 2\n",
    "    binary_search_threshold = 5\n",
    "    while True:\n",
    "        quality = evaluate_fitness(docs[mid][0], query) # returns 'Relevant' or 'Irrelevant'\n",
    "        print(mid, quality, docs[mid][0])\n",
    "        if quality == 'Relevant':\n",
    "            start = mid\n",
    "            mid = (mid + end) // 2\n",
    "        else:\n",
    "            end = mid\n",
    "            mid = (mid + start) // 2\n",
    "\n",
    "        if mid - start <= binary_search_threshold or end - mid <= binary_search_threshold:\n",
    "            break\n",
    "    return docs[mid][1]"
   ]
  },
  {
   "cell_type": "code",
   "execution_count": 41,
   "metadata": {},
   "outputs": [
    {
     "name": "stdout",
     "output_type": "stream",
     "text": [
      "3774 Irrelevant The article discussed how former NBA star Dennis Rodman has been charged with four misdemeanors, including driving his car in the wrong direction on a freeway in Southern California, causing another driver to crash. The incident occurred in Santa Ana, California, on July 20 when Rodman was driving an SUV north in a southbound carpool lane on Interstate 5. Rodman allegedly drove directly at another car, forcing the driver to swerve and crash into a concrete dividing wall, and then fled the scene.\n",
      "1887 Relevant The article discussed Donald Trump's plan to help families afford child care, which includes allowing families to fully deduct the average cost of child care. However, this deduction would mostly benefit richer families. Trump's plan has fewer components compared to Clinton's plan, which aims to limit childcare expenses at 10% of household income and increase spending on early Head Start. Trump's proposal represents an evolution from his previous dismissive stance on child care.\n",
      "2830 Irrelevant The article discussed Liberty Media's investor day, where CEO Greg Maffei dressed as \"Hamilton\" and sang show tunes. Liberty Media Chairman John Malone expressed concern about the growth of Facebook and other web businesses, but now believes the Washington pendulum is swinging away from Silicon Valley. Maffei joked that Google may lose its advantage with the White House, potentially affecting Eric Schmidt's residence in the Lincoln bedroom.\n",
      "2358 Irrelevant The article discussed how Chris Christie denied Marco Rubio's accusations during the Charleston debate, but evidence showed that Christie had supported Sonia Sotomayor, made a donation to Planned Parenthood, and had a mixed record on gun control. Christie also claimed that Common Core had been eliminated in New Jersey, despite previous statements supporting it. The article questioned Christie's credibility and highlighted his past positions on these issues.\n",
      "2122 Relevant The article discussed the decision made by Bill and Chelsea Clinton to scale back the Clinton Foundation if Hillary Clinton becomes president, shutting down the Clinton Global Initiative and focusing on the Clinton Presidential Library. This decision comes after criticism of the foundation's fundraising practices and potential conflicts of interest. The article also highlights the Clintons' history of facing baseless accusations and their belief that they will be criticized regardless of their actions.\n",
      "2240 Irrelevant The article discussed the main character's mother's sense of persecution and her belief that the world is out to get her. This led to her justifying her actions of taking things from motel rooms as a way to \"even the score.\" The article also touched on the idea that some people, like Donald Trump, value winning above all else, even if it means disregarding principles and moral codes.\n",
      "2181 Irrelevant The article discussed the ongoing debate between Bernie Sanders and Hillary Clinton regarding campaign financing and the influence of Wall Street interests. It also highlighted the role of labor unions as super PACs in supporting Democratic campaigns. The article mentioned the declining influence of unions and the increasing awareness among voters about their political role.\n",
      "2151 Relevant The article discussed BuzzFeed News and their latest coverage of the GOP race.\n",
      "2166 Irrelevant The article discussed President Barack Obama's praise for his nuclear deal with Iran, highlighting the release of four Americans from Iranian custody as a result of the negotiations. Obama emphasized that his decision to negotiate with Iran was \"strong\" and his leadership was \"smart, patient, and disciplined.\" He also mentioned that discussions between the US and Iran accelerated after the nuclear deal was complete, leading to the release of the Americans.\n",
      "2158 Irrelevant The article discussed President Obama's response to the recent incidents of black males being shot by police officers and the subsequent killing of five Dallas officials by a gunman. Obama urged Americans to remain optimistic about race relations and stated that the country has not regressed to the level of 1960's rioting. He also mentioned his commitment to stopping gun violence and the need to address the issue of guns in communities.\n"
     ]
    },
    {
     "data": {
      "text/plain": [
       "0.7908691993456348"
      ]
     },
     "execution_count": 41,
     "metadata": {},
     "output_type": "execute_result"
    }
   ],
   "source": [
    "query = \"donald trump presidential election\"\n",
    "# examples\n",
    "strings_and_relatednesses = strings_ranked_by_relatedness(query, article_embeddings)\n",
    "binary_search_threshold(strings_and_relatednesses, query)\n",
    "# for string, relatedness in strings_and_relatednesses:\n",
    "#     print(f\"{relatedness=:.3f}\")\n",
    "#     display(string)"
   ]
  },
  {
   "cell_type": "code",
   "execution_count": 44,
   "metadata": {},
   "outputs": [
    {
     "name": "stdout",
     "output_type": "stream",
     "text": [
      "The article discussed the controversy surrounding the headline \"Bill Kristol: Republican Spoiler, Renegade Jew\" and the backlash it received on social media. It also highlighted Kristol's plan to mount a third-party run, which the author argues would split the Republican vote and ultimately benefit Obama, Hillary, and Huma Abedin, who are seen as enablers of a planned Holocaust in the Middle East.\n"
     ]
    }
   ],
   "source": [
    "print(strings_and_relatednesses[2154][0])"
   ]
  },
  {
   "cell_type": "code",
   "execution_count": 2,
   "metadata": {},
   "outputs": [
    {
     "name": "stdout",
     "output_type": "stream",
     "text": [
      "[(1, 5, ''), (6, 10, '')]\n"
     ]
    }
   ],
   "source": [
    "def cleanSpans(all_spans):\n",
    "    all_spans.sort(key=lambda x: x[0])\n",
    "    cleaned_spans = []\n",
    "    current_max_end = float('-inf')  # Initialize with negative infinity\n",
    "\n",
    "    for span in all_spans:\n",
    "        start, end, _ = span\n",
    "        # If the span is not contained within the current range\n",
    "        if start > current_max_end:\n",
    "            cleaned_spans.append(span)\n",
    "            current_max_end = end\n",
    "        # If the span is contained, skip it\n",
    "    return cleaned_spans\n",
    "\n",
    "spans = [(1, 5, \"\"), (2, 4, \"\"), (6, 10, \"\"), (8, 9, \"\")]\n",
    "result = cleanSpans(spans)\n",
    "print(result)  # Output: [(1, 5), (6, 10)]\n"
   ]
  }
 ],
 "metadata": {
  "kernelspec": {
   "display_name": "event_hgraph_preprocess",
   "language": "python",
   "name": "python3"
  },
  "language_info": {
   "codemirror_mode": {
    "name": "ipython",
    "version": 3
   },
   "file_extension": ".py",
   "mimetype": "text/x-python",
   "name": "python",
   "nbconvert_exporter": "python",
   "pygments_lexer": "ipython3",
   "version": "3.11.3"
  },
  "orig_nbformat": 4
 },
 "nbformat": 4,
 "nbformat_minor": 2
}
